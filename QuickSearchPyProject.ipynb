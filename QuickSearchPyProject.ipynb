{
 "cells": [
  {
   "cell_type": "code",
   "execution_count": 1,
   "metadata": {},
   "outputs": [
    {
     "name": "stdout",
     "output_type": "stream",
     "text": [
      "Статистика эксперимента:\n",
      " Среднее число попыток: 5.820999999999945\n",
      " Было не менее 1 и не более 7 попыток\n",
      "Требуемый результат:\n",
      " Ваш алгоритм угадывает число в среднем за 5 попыток\n"
     ]
    },
    {
     "data": {
      "text/plain": [
       "5"
      ]
     },
     "execution_count": 1,
     "metadata": {},
     "output_type": "execute_result"
    }
   ],
   "source": [
    "import numpy as np\n",
    "\n",
    "def find_nb_bisection(nb_to_find):\n",
    "    # Function implements bisection method to find a randomly allocated number \n",
    "    # from 1 to 100 inclusive.\n",
    "    # First, lower and upper bounds of the search interval \n",
    "    # are set to 1 and 100 correspondingly.\n",
    "    # On each step, the search interval is halved.\n",
    "    count = 0\n",
    "    lower_bound = 1\n",
    "    upper_bound = 100\n",
    "    while count < 101: # algorythm certainly completes in less than 100 iterations\n",
    "        count += 1\n",
    "        cut_point = int((lower_bound + upper_bound)/2)\n",
    "        if cut_point == nb_to_find:\n",
    "            break # loop stops when number is found\n",
    "        # determine part of the search interval to eliminate\n",
    "        elif cut_point < nb_to_find:\n",
    "            lower_bound = cut_point + 1\n",
    "        else:\n",
    "            upper_bound = cut_point - 1\n",
    "    return count\n",
    "        \n",
    "def score_game(game_core):\n",
    "    '''Запускаем игру 1000 раз, чтобы узнать, как быстро игра угадывает число'''\n",
    "    count_ls = []\n",
    "    np.random.seed(1)  # RANDOM SEED is fixed to reproduce the experiment\n",
    "    random_array = np.random.randint(1,101, size=(1000))\n",
    "    avg = 0\n",
    "    for i in range(1000):\n",
    "        count_ls.append(game_core(random_array[i]))\n",
    "        avg += count_ls[i]/1000\n",
    "    score = int(np.mean(count_ls))\n",
    "    min_attempts = np.min(count_ls)\n",
    "    max_attempts = np.max(count_ls)\n",
    "    print(\"Статистика эксперимента:\")\n",
    "    print(f\" Среднее число попыток: {avg}\")\n",
    "    print(f\" Было не менее {min_attempts} и не более {max_attempts} попыток\")\n",
    "    print(\"Требуемый результат:\")\n",
    "    print(f\" Ваш алгоритм угадывает число в среднем за {score} попыток\")\n",
    "    return(score)\n",
    "\n",
    "score_game(find_nb_bisection)"
   ]
  },
  {
   "cell_type": "code",
   "execution_count": null,
   "metadata": {},
   "outputs": [],
   "source": []
  }
 ],
 "metadata": {
  "kernelspec": {
   "display_name": "Python 3",
   "language": "python",
   "name": "python3"
  },
  "language_info": {
   "codemirror_mode": {
    "name": "ipython",
    "version": 3
   },
   "file_extension": ".py",
   "mimetype": "text/x-python",
   "name": "python",
   "nbconvert_exporter": "python",
   "pygments_lexer": "ipython3",
   "version": "3.8.3"
  }
 },
 "nbformat": 4,
 "nbformat_minor": 4
}
